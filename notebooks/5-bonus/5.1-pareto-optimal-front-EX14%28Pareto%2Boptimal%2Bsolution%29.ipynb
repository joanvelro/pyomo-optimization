{
 "cells": [
  {
   "cell_type": "code",
   "execution_count": 1,
   "metadata": {},
   "outputs": [],
   "source": [
    "from pyomo.environ import *\n",
    "import matplotlib.pyplot as plt"
   ]
  },
  {
   "cell_type": "code",
   "execution_count": 2,
   "metadata": {},
   "outputs": [],
   "source": [
    "model = ConcreteModel()\n",
    "model.epsilon=Param(initialize=-100,mutable=True)\n",
    "model.x1 = Var(bounds=(1,2), within=NonNegativeReals)\n",
    "model.x2 = Var(bounds=(1,3), within=NonNegativeReals)\n",
    "model.eq1= Constraint(expr= -1.2*model.x1**2+5*model.x2>=model.epsilon)\n",
    "model.obj1 = Objective(expr=2*model.x1-0.5*model.x2**2, sense=maximize)\n",
    "model.obj2 = Objective(expr=-1.2*model.x1**2+5*model.x2, sense=maximize)\n",
    "opt = SolverFactory('ipopt')"
   ]
  },
  {
   "cell_type": "code",
   "execution_count": 3,
   "metadata": {},
   "outputs": [
    {
     "name": "stdout",
     "output_type": "stream",
     "text": [
      "x1 =  2.0\n",
      "x2 =  1.0\n",
      "obj1 =  3.5\n",
      "obj2 =  0.2\n"
     ]
    }
   ],
   "source": [
    "model.obj2.deactivate() \n",
    "results = opt.solve(model) # solves and updates instance\n",
    "print('x1 = ',round(value(model.x1),2))\n",
    "print('x2 = ',round(value(model.x2),2))\n",
    "print('obj1 = ',round(value(model.obj1),2))\n",
    "print('obj2 = ',round(value(model.obj2),2))\n",
    "maxOF1=value(model.obj1)\n",
    "minOF2=value(model.obj2)"
   ]
  },
  {
   "cell_type": "code",
   "execution_count": 4,
   "metadata": {},
   "outputs": [
    {
     "name": "stdout",
     "output_type": "stream",
     "text": [
      "x1 =  1.0\n",
      "x2 =  3.0\n",
      "obj1 =  -2.5\n",
      "obj2 =  13.8\n"
     ]
    }
   ],
   "source": [
    "model.obj1.deactivate() \n",
    "model.obj2.activate() \n",
    "results = opt.solve(model) # solves and updates instance\n",
    "print('x1 = ',round(value(model.x1),2))\n",
    "print('x2 = ',round(value(model.x2),2))\n",
    "print('obj1 = ',round(value(model.obj1),2))\n",
    "print('obj2 = ',round(value(model.obj2),2))\n",
    "minOF1=value(model.obj1)\n",
    "maxOF2=value(model.obj2)"
   ]
  },
  {
   "cell_type": "code",
   "execution_count": 5,
   "metadata": {},
   "outputs": [
    {
     "name": "stdout",
     "output_type": "stream",
     "text": [
      "  x1    x2   OF1   OF2   Epsilon \n",
      " 2.00  1.00  3.50  0.20  0.20\n",
      " 2.00  1.14  3.35  0.88  0.88\n",
      " 2.00  1.27  3.19  1.56  1.56\n",
      " 2.00  1.41  3.01  2.24  2.24\n",
      " 2.00  1.54  2.81  2.92  2.92\n",
      " 2.00  1.68  2.59  3.60  3.60\n",
      " 2.00  1.82  2.35  4.28  4.28\n",
      " 2.00  1.95  2.09  4.96  4.96\n",
      " 2.00  2.09  1.82  5.64  5.64\n",
      " 1.93  2.16  1.53  6.32  6.32\n",
      " 1.86  2.23  1.23  7.00  7.00\n",
      " 1.80  2.31  0.92  7.68  7.68\n",
      " 1.74  2.40  0.60  8.36  8.36\n",
      " 1.68  2.48  0.27  9.04  9.04\n",
      " 1.62  2.57 -0.07  9.72  9.72\n",
      " 1.56  2.67 -0.43 10.40 10.40\n",
      " 1.51  2.76 -0.80 11.08 11.08\n",
      " 1.46  2.86 -1.18 11.76 11.76\n",
      " 1.41  2.96 -1.58 12.44 12.44\n",
      " 1.25  3.00 -2.00 13.12 13.12\n",
      " 1.00  3.00 -2.50 13.80 13.80\n"
     ]
    }
   ],
   "source": [
    "model.obj1.activate() \n",
    "model.obj2.deactivate() \n",
    "Nsteps=21\n",
    "X=[]\n",
    "Y=[]\n",
    "print('  x1  ',' x2 ',' OF1 ',' OF2 ',' Epsilon ')\n",
    "for counter in range(1,Nsteps+1):\n",
    "    model.epsilon=minOF2+(maxOF2-minOF2)*(counter-1)/(Nsteps-1)\n",
    "    results = opt.solve(model) # solves and updates instance\n",
    "    print(\"%5.2f\"% value(model.x1),\"%5.2f\"% value(model.x2),\"%5.2f\"% value(model.obj1),\"%5.2f\"% value(model.obj2), \"%5.2f\"% value(model.epsilon))\n",
    "    X.append(value(model.obj1))\n",
    "    Y.append(value(model.obj2))"
   ]
  },
  {
   "cell_type": "code",
   "execution_count": 9,
   "metadata": {},
   "outputs": [
    {
     "data": {
      "image/png": "[encoded data removed]",
      "text/plain": [
       "<Figure size 600x600 with 1 Axes>"
      ]
     },
     "metadata": {},
     "output_type": "display_data"
    }
   ],
   "source": [
    "fig = plt.figure(figsize=(6,6))\n",
    "plt.scatter(X,Y)\n",
    "plt.xlabel('OF1',fontweight='bold')\n",
    "plt.ylabel('OF2',fontweight='bold')\n",
    "plt.grid()\n",
    "plt.show()"
   ]
  },
  {
   "cell_type": "code",
   "execution_count": null,
   "metadata": {},
   "outputs": [],
   "source": []
  }
 ],
 "metadata": {
  "kernelspec": {
   "display_name": "Python 3",
   "language": "python",
   "name": "python3"
  },
  "language_info": {
   "codemirror_mode": {
    "name": "ipython",
    "version": 3
   },
   "file_extension": ".py",
   "mimetype": "text/x-python",
   "name": "python",
   "nbconvert_exporter": "python",
   "pygments_lexer": "ipython3",
   "version": "3.8.5"
  }
 },
 "nbformat": 4,
 "nbformat_minor": 4
}
