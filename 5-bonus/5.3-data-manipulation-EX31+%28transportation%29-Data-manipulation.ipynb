{
 "cells": [
  {
   "cell_type": "code",
   "execution_count": 75,
   "metadata": {},
   "outputs": [],
   "source": [
    "from pyomo.environ import *\n",
    "import matplotlib.pyplot as plt\n",
    "import numpy as np\n",
    "import random \n",
    "import pandas as pd"
   ]
  },
  {
   "cell_type": "code",
   "execution_count": 76,
   "metadata": {},
   "outputs": [
    {
     "data": {
      "text/html": [
       "<div>\n",
       "<style scoped>\n",
       "    .dataframe tbody tr th:only-of-type {\n",
       "        vertical-align: middle;\n",
       "    }\n",
       "\n",
       "    .dataframe tbody tr th {\n",
       "        vertical-align: top;\n",
       "    }\n",
       "\n",
       "    .dataframe thead th {\n",
       "        text-align: right;\n",
       "    }\n",
       "</style>\n",
       "<table border=\"1\" class=\"dataframe\">\n",
       "  <thead>\n",
       "    <tr style=\"text-align: right;\">\n",
       "      <th></th>\n",
       "      <th>Unnamed: 0</th>\n",
       "      <th>dem</th>\n",
       "    </tr>\n",
       "  </thead>\n",
       "  <tbody>\n",
       "    <tr>\n",
       "      <th>0</th>\n",
       "      <td>1</td>\n",
       "      <td>12</td>\n",
       "    </tr>\n",
       "    <tr>\n",
       "      <th>1</th>\n",
       "      <td>2</td>\n",
       "      <td>13</td>\n",
       "    </tr>\n",
       "    <tr>\n",
       "      <th>2</th>\n",
       "      <td>3</td>\n",
       "      <td>14</td>\n",
       "    </tr>\n",
       "    <tr>\n",
       "      <th>3</th>\n",
       "      <td>4</td>\n",
       "      <td>15</td>\n",
       "    </tr>\n",
       "  </tbody>\n",
       "</table>\n",
       "</div>"
      ],
      "text/plain": [
       "   Unnamed: 0  dem\n",
       "0           1   12\n",
       "1           2   13\n",
       "2           3   14\n",
       "3           4   15"
      ]
     },
     "execution_count": 76,
     "metadata": {},
     "output_type": "execute_result"
    }
   ],
   "source": [
    "df = pd.read_csv(\"TransportData.csv\")\n",
    "df"
   ]
  },
  {
   "cell_type": "code",
   "execution_count": 77,
   "metadata": {},
   "outputs": [
    {
     "name": "stdout",
     "output_type": "stream",
     "text": [
      "{1: 12, 2: 13, 3: 14, 4: 15}\n"
     ]
    }
   ],
   "source": [
    "dic_demand={}\n",
    "for j in range(len(df)):\n",
    "    dic_demand[j+1]=df.loc[j,'dem']\n",
    "print(dic_demand)"
   ]
  },
  {
   "cell_type": "code",
   "execution_count": 78,
   "metadata": {},
   "outputs": [
    {
     "name": "stdout",
     "output_type": "stream",
     "text": [
      "{1: 50, 2: 100, 3: 150, 4: 200} {(1, 1): 50, (1, 2): 100, (1, 3): 150, (1, 4): 200, (2, 1): 100, (2, 2): 200, (2, 3): 300, (2, 4): 400, (3, 1): 150, (3, 2): 300, (3, 3): 450, (3, 4): 600}\n"
     ]
    }
   ],
   "source": [
    "dic_demand={}\n",
    "for j in range(1,5):\n",
    "    dic_demand[j]=50*j\n",
    "    \n",
    "dic_distance={}\n",
    "for i in range(1,4):\n",
    "    for j in range(1,5):\n",
    "        dic_distance[i,j]=50*(j*i)\n",
    "    \n",
    "print(dic_demand,dic_distance)"
   ]
  },
  {
   "cell_type": "code",
   "execution_count": 52,
   "metadata": {},
   "outputs": [],
   "source": [
    "model = AbstractModel()\n",
    "model.N=Param(mutable=True)\n",
    "model.M=Param(mutable=True)\n",
    "\n",
    "model.i = RangeSet(model.N)\n",
    "model.j = RangeSet(model.M)\n",
    "model.Demand =Param(model.j, mutable=True) \n",
    "model.pmin = Param(model.i)\n",
    "model.pmax = Param(model.i)\n",
    "model.Cost = Param(model.i, mutable=True)\n",
    "\n",
    "model.distance = Param(model.i,model.j, mutable=True)\n",
    "model.x = Var(model.i,model.j, bounds=(0,300), within=Reals)\n",
    "model.OF = Var(within=Reals)\n",
    "\n",
    "def Pbounds(model,i):\n",
    "    return (model.pmin[i] , model.pmax[i])\n",
    "model.P = Var(model.i, bounds=Pbounds, domain=Reals)\n",
    "def rule_C1(model,i):\n",
    "        return  sum(model.x[i,j] for j in model.j)==model.P[i]\n",
    "model.C1   = Constraint(model.i,rule=rule_C1)\n",
    "\n",
    "def rule_C2(model,j):\n",
    "        return  sum(model.x[i,j] for i in model.i)>=model.Demand[j]\n",
    "model.C2   = Constraint(model.j,rule=rule_C2)\n",
    "def rule_OF(model):\n",
    "    return model.OF==sum(model.P[i]*model.Cost[i] for i in model.i) + sum(model.x[i,j]*model.distance[i,j] for i in model.i for j in model.j)\n",
    "model.C3   = Constraint(rule=rule_OF)\n",
    "model.obj1 = Objective(expr=model.OF, sense=minimize)\n"
   ]
  },
  {
   "cell_type": "code",
   "execution_count": 79,
   "metadata": {},
   "outputs": [],
   "source": [
    "opt = SolverFactory('glpk')\n",
    "model.N=3\n",
    "model.M=4\n",
    "\n",
    "#instance = model.create_instance(\"Ex31.dat\")\n",
    "instance = model.create_instance(\"Ex31-incomplete.dat\")"
   ]
  },
  {
   "cell_type": "code",
   "execution_count": null,
   "metadata": {},
   "outputs": [],
   "source": []
  },
  {
   "cell_type": "code",
   "execution_count": 80,
   "metadata": {},
   "outputs": [],
   "source": [
    "for j in instance.j:\n",
    "    instance.Demand[j]=dic_demand[j]\n",
    "    \n",
    "for i in instance.i:\n",
    "    for j in instance.j:\n",
    "        instance.distance[i,j]=dic_distance[i,j]"
   ]
  },
  {
   "cell_type": "code",
   "execution_count": 81,
   "metadata": {},
   "outputs": [
    {
     "name": "stdout",
     "output_type": "stream",
     "text": [
      "OF=  81900.0\n"
     ]
    }
   ],
   "source": [
    "results = opt.solve(instance) # solves and updates instance\n",
    "print('OF= ',value(instance.OF))"
   ]
  },
  {
   "cell_type": "code",
   "execution_count": 82,
   "metadata": {},
   "outputs": [
    {
     "data": {
      "text/plain": [
       "(0.06, 0.9400000000000001, 0.06, 0.9400000000000001)"
      ]
     },
     "execution_count": 82,
     "metadata": {},
     "output_type": "execute_result"
    },
    {
     "data": {
      "image/png": "[encoded data removed]",
      "text/plain": [
       "<Figure size 504x504 with 1 Axes>"
      ]
     },
     "metadata": {
      "needs_background": "light"
     },
     "output_type": "display_data"
    }
   ],
   "source": [
    "fig = plt.figure(figsize=(7,7))\n",
    "Ni=3\n",
    "Nj=4\n",
    "supplyY=np.linspace(0.1,0.9,Ni)\n",
    "supplyX=0.1*np.ones_like(supplyY)\n",
    "demandY=np.linspace(0.1,0.9,Nj)\n",
    "demandX=0.9*np.ones_like(demandY)\n",
    "\n",
    "for i in instance.i:\n",
    "    for j in instance.j:\n",
    "        if value(instance.x[i,j])>0.1:\n",
    "            plt.plot([supplyX[Ni-i],demandX[Nj-j]],[supplyY[Ni-i],demandY[Nj-j]],lw=value(instance.x[i,j])/30)\n",
    "for c in range(0,Ni):\n",
    "    plt.scatter(supplyX[c],supplyY[c],s=250)\n",
    "    plt.text(supplyX[Ni-c-1]-0.05,supplyY[Ni-c-1],'S'+str(c+1),fontweight='bold')\n",
    "for c in range(0,Nj):\n",
    "    plt.scatter(demandX[c],demandY[c],s=250)\n",
    "    plt.text(demandX[Nj-c-1]+0.03,demandY[Nj-c-1],'D'+str(c+1),fontweight='bold')\n",
    "plt.axis('off')\n"
   ]
  },
  {
   "cell_type": "code",
   "execution_count": 83,
   "metadata": {},
   "outputs": [
    {
     "name": "stdout",
     "output_type": "stream",
     "text": [
      "0 OF=  4170.0\n",
      "1 OF=  42400.0\n",
      "2 OF=  81900.0\n",
      "3 OF=  121650.0\n",
      "4 OF=  180720.0\n"
     ]
    }
   ],
   "source": [
    "for iter in range(5):\n",
    "    for j in instance.j:\n",
    "        instance.Demand[j]=iter*dic_demand[j]/2\n",
    "    results = opt.solve(instance) # solves and updates instance\n",
    "    print(iter, 'OF= ',value(instance.OF))\n",
    "    \n",
    "    "
   ]
  },
  {
   "cell_type": "code",
   "execution_count": null,
   "metadata": {},
   "outputs": [],
   "source": []
  }
 ],
 "metadata": {
  "kernelspec": {
   "display_name": "Python 3",
   "language": "python",
   "name": "python3"
  },
  "language_info": {
   "codemirror_mode": {
    "name": "ipython",
    "version": 3
   },
   "file_extension": ".py",
   "mimetype": "text/x-python",
   "name": "python",
   "nbconvert_exporter": "python",
   "pygments_lexer": "ipython3",
   "version": "3.7.4"
  }
 },
 "nbformat": 4,
 "nbformat_minor": 4
}
